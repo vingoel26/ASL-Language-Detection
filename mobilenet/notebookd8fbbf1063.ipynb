{
 "cells": [
  {
   "cell_type": "code",
   "execution_count": null,
   "metadata": {},
   "outputs": [],
   "source": [
    "# 1. Setup & Install\n",
    "!pip install timm --quiet\n",
    "import os\n",
    "import torch\n",
    "from torch import nn, optim\n",
    "from torchvision import datasets, transforms\n",
    "from torch.utils.data import random_split, DataLoader\n",
    "import timm\n"
   ]
  },
  {
   "cell_type": "code",
   "execution_count": null,
   "metadata": {},
   "outputs": [],
   "source": [
    "# 2. Data Preparation\n",
    "DATA_DIR = \"/kaggle/input/asl-alphabet\"  # add dataset via Kaggle UI\n",
    "\n",
    "transform = transforms.Compose([\n",
    "    transforms.Resize((224, 224)),\n",
    "    transforms.RandomHorizontalFlip(),\n",
    "    transforms.ColorJitter(0.2, 0.2, 0.2, 0.2),\n",
    "    transforms.ToTensor(),\n",
    "    transforms.Normalize([0.485, 0.456, 0.406], [0.229, 0.224, 0.225])\n",
    "])\n",
    "\n",
    "# Organize dataset\n",
    "ASL_DIR = \"/kaggle/working/asl_images\"\n",
    "for split in [\"train\", \"val\"]:\n",
    "    os.makedirs(f\"{ASL_DIR}/{split}\", exist_ok=True)\n",
    "\n",
    "import glob, shutil\n",
    "classes = os.listdir(f\"{DATA_DIR}/asl_alphabet_train/asl_alphabet_train\")\n",
    "for cls in classes:\n",
    "    imgs = glob.glob(f\"{DATA_DIR}/asl_alphabet_train/asl_alphabet_train/{cls}/*.jpg\")\n",
    "    split_idx = int(0.9 * len(imgs))\n",
    "    for i, img in enumerate(imgs):\n",
    "        dst = \"train\" if i < split_idx else \"val\"\n",
    "        os.makedirs(f\"{ASL_DIR}/{dst}/{cls}\", exist_ok=True)\n",
    "        os.symlink(img, f\"{ASL_DIR}/{dst}/{cls}/{os.path.basename(img)}\")"
   ]
  },
  {
   "cell_type": "code",
   "execution_count": null,
   "metadata": {},
   "outputs": [],
   "source": [
    "# Load datasets\n",
    "train_dataset = datasets.ImageFolder(f\"{ASL_DIR}/train\", transform=transform)\n",
    "val_dataset = datasets.ImageFolder(f\"{ASL_DIR}/val\", transform=transform)\n",
    "\n",
    "train_loader = DataLoader(train_dataset, batch_size=64, shuffle=True, num_workers=4)\n",
    "val_loader = DataLoader(val_dataset, batch_size=64, shuffle=False, num_workers=4)\n",
    "\n",
    "print(f\"Classes: {train_dataset.classes}\")\n",
    "print(f\"Train size: {len(train_dataset)}, Val size: {len(val_dataset)}\")\n",
    "\n",
    "# 3. Load & Modify MobileNetV3\n",
    "device = torch.device(\"cuda\" if torch.cuda.is_available() else \"cpu\")\n",
    "model = timm.create_model(\"mobilenetv3_small_100\", pretrained=True)\n",
    "model.classifier = nn.Linear(model.classifier.in_features, len(train_dataset.classes))\n",
    "model = model.to(device)\n"
   ]
  },
  {
   "cell_type": "code",
   "execution_count": null,
   "metadata": {
    "execution": {
     "iopub.execute_input": "2025-09-06T21:39:09.153645Z",
     "iopub.status.busy": "2025-09-06T21:39:09.153137Z",
     "iopub.status.idle": "2025-09-06T22:32:02.808845Z",
     "shell.execute_reply": "2025-09-06T22:32:02.807892Z",
     "shell.execute_reply.started": "2025-09-06T21:39:09.153619Z"
    },
    "trusted": true
   },
   "outputs": [
    {
     "name": "stdout",
     "output_type": "stream",
     "text": [
      "\u001b[2K   \u001b[90m━━━━━━━━━━━━━━━━━━━━━━━━━━━━━━━━━━━━━━━━\u001b[0m \u001b[32m363.4/363.4 MB\u001b[0m \u001b[31m4.7 MB/s\u001b[0m eta \u001b[36m0:00:00\u001b[0m:00:01\u001b[0m00:01\u001b[0m\n",
      "\u001b[2K   \u001b[90m━━━━━━━━━━━━━━━━━━━━━━━━━━━━━━━━━━━━━━━━\u001b[0m \u001b[32m13.8/13.8 MB\u001b[0m \u001b[31m105.0 MB/s\u001b[0m eta \u001b[36m0:00:00\u001b[0m00:01\u001b[0m0:01\u001b[0m\n",
      "\u001b[2K   \u001b[90m━━━━━━━━━━━━━━━━━━━━━━━━━━━━━━━━━━━━━━━━\u001b[0m \u001b[32m24.6/24.6 MB\u001b[0m \u001b[31m80.0 MB/s\u001b[0m eta \u001b[36m0:00:00\u001b[0m:00:01\u001b[0m00:01\u001b[0m\n",
      "\u001b[2K   \u001b[90m━━━━━━━━━━━━━━━━━━━━━━━━━━━━━━━━━━━━━━━━\u001b[0m \u001b[32m883.7/883.7 kB\u001b[0m \u001b[31m38.1 MB/s\u001b[0m eta \u001b[36m0:00:00\u001b[0m\n",
      "\u001b[2K   \u001b[90m━━━━━━━━━━━━━━━━━━━━━━━━━━━━━━━━━━━━━━━━\u001b[0m \u001b[32m664.8/664.8 MB\u001b[0m \u001b[31m2.1 MB/s\u001b[0m eta \u001b[36m0:00:00\u001b[0m:00:01\u001b[0m00:01\u001b[0m\n",
      "\u001b[2K   \u001b[90m━━━━━━━━━━━━━━━━━━━━━━━━━━━━━━━━━━━━━━━━\u001b[0m \u001b[32m211.5/211.5 MB\u001b[0m \u001b[31m2.1 MB/s\u001b[0m eta \u001b[36m0:00:00\u001b[0m:00:01\u001b[0m00:01\u001b[0m\n",
      "\u001b[2K   \u001b[90m━━━━━━━━━━━━━━━━━━━━━━━━━━━━━━━━━━━━━━━━\u001b[0m \u001b[32m56.3/56.3 MB\u001b[0m \u001b[31m22.5 MB/s\u001b[0m eta \u001b[36m0:00:00\u001b[0m:00:01\u001b[0m00:01\u001b[0m\n",
      "\u001b[2K   \u001b[90m━━━━━━━━━━━━━━━━━━━━━━━━━━━━━━━━━━━━━━━━\u001b[0m \u001b[32m127.9/127.9 MB\u001b[0m \u001b[31m13.4 MB/s\u001b[0m eta \u001b[36m0:00:00\u001b[0m00:01\u001b[0m00:01\u001b[0m\n",
      "\u001b[2K   \u001b[90m━━━━━━━━━━━━━━━━━━━━━━━━━━━━━━━━━━━━━━━━\u001b[0m \u001b[32m207.5/207.5 MB\u001b[0m \u001b[31m8.2 MB/s\u001b[0m eta \u001b[36m0:00:00\u001b[0m:00:01\u001b[0m00:01\u001b[0m\n",
      "\u001b[2K   \u001b[90m━━━━━━━━━━━━━━━━━━━━━━━━━━━━━━━━━━━━━━━━\u001b[0m \u001b[32m21.1/21.1 MB\u001b[0m \u001b[31m82.2 MB/s\u001b[0m eta \u001b[36m0:00:00\u001b[0m:00:01\u001b[0m00:01\u001b[0m\n",
      "\u001b[?25hClasses: ['A', 'B', 'C', 'D', 'E', 'F', 'G', 'H', 'I', 'J', 'K', 'L', 'M', 'N', 'O', 'P', 'Q', 'R', 'S', 'T', 'U', 'V', 'W', 'X', 'Y', 'Z', 'del', 'nothing', 'space']\n",
      "Train size: 78300, Val size: 8700\n"
     ]
    },
    {
     "data": {
      "application/vnd.jupyter.widget-view+json": {
       "model_id": "8ed15aa93b3941a8b15fec6114ceef4d",
       "version_major": 2,
       "version_minor": 0
      },
      "text/plain": [
       "model.safetensors:   0%|          | 0.00/10.2M [00:00<?, ?B/s]"
      ]
     },
     "metadata": {},
     "output_type": "display_data"
    },
    {
     "name": "stdout",
     "output_type": "stream",
     "text": [
      "Epoch 1/10: Train Loss: 0.1636, Train Acc: 0.9605, Val Acc: 0.9895\n",
      "Epoch 2/10: Train Loss: 0.0096, Train Acc: 0.9970, Val Acc: 0.9970\n",
      "Epoch 3/10: Train Loss: 0.0102, Train Acc: 0.9971, Val Acc: 0.9402\n",
      "Epoch 4/10: Train Loss: 0.0076, Train Acc: 0.9980, Val Acc: 0.9961\n",
      "Epoch 5/10: Train Loss: 0.0061, Train Acc: 0.9983, Val Acc: 0.9992\n",
      "Epoch 6/10: Train Loss: 0.0071, Train Acc: 0.9979, Val Acc: 0.9999\n",
      "Epoch 7/10: Train Loss: 0.0053, Train Acc: 0.9985, Val Acc: 0.9993\n",
      "Epoch 8/10: Train Loss: 0.0044, Train Acc: 0.9987, Val Acc: 0.9991\n",
      "Epoch 9/10: Train Loss: 0.0028, Train Acc: 0.9993, Val Acc: 0.9998\n",
      "Epoch 10/10: Train Loss: 0.0051, Train Acc: 0.9984, Val Acc: 0.9960\n",
      "✅ Model saved as mobilenetv3_asl.pth\n"
     ]
    }
   ],
   "source": [
    "\n",
    "# 4. Training Setup\n",
    "criterion = nn.CrossEntropyLoss()\n",
    "optimizer = optim.Adam(model.parameters(), lr=1e-4)\n",
    "\n",
    "# 5. Training Loop\n",
    "EPOCHS = 10  # Increase to 30-50 later\n",
    "for epoch in range(1, EPOCHS + 1):\n",
    "    model.train()\n",
    "    total, correct, loss_sum = 0, 0, 0\n",
    "\n",
    "    for imgs, labels in train_loader:\n",
    "        imgs, labels = imgs.to(device), labels.to(device)\n",
    "        optimizer.zero_grad()\n",
    "        outs = model(imgs)\n",
    "        loss = criterion(outs, labels)\n",
    "        loss.backward()\n",
    "        optimizer.step()\n",
    "\n",
    "        loss_sum += loss.item() * labels.size(0)\n",
    "        _, preds = outs.max(1)\n",
    "        correct += preds.eq(labels).sum().item()\n",
    "        total += labels.size(0)\n",
    "\n",
    "    train_acc = correct / total\n",
    "    train_loss = loss_sum / total\n",
    "\n",
    "    # Validation\n",
    "    model.eval()\n",
    "    total, correct = 0, 0\n",
    "    with torch.no_grad():\n",
    "        for imgs, labels in val_loader:\n",
    "            imgs, labels = imgs.to(device), labels.to(device)\n",
    "            outs = model(imgs)\n",
    "            _, preds = outs.max(1)\n",
    "            correct += preds.eq(labels).sum().item()\n",
    "            total += labels.size(0)\n",
    "    val_acc = correct / total\n",
    "\n",
    "    print(f\"Epoch {epoch}/{EPOCHS}: Train Loss: {train_loss:.4f}, \"\n",
    "          f\"Train Acc: {train_acc:.4f}, Val Acc: {val_acc:.4f}\")\n",
    "\n",
    "\n"
   ]
  },
  {
   "cell_type": "code",
   "execution_count": null,
   "metadata": {},
   "outputs": [],
   "source": [
    "# 6. Save Model\n",
    "torch.save(model.state_dict(), \"mobilenetv3_asl.pth\")"
   ]
  },
  {
   "cell_type": "code",
   "execution_count": null,
   "metadata": {
    "execution": {
     "iopub.execute_input": "2025-09-06T22:36:49.839577Z",
     "iopub.status.busy": "2025-09-06T22:36:49.839207Z",
     "iopub.status.idle": "2025-09-06T22:36:49.845525Z",
     "shell.execute_reply": "2025-09-06T22:36:49.844902Z",
     "shell.execute_reply.started": "2025-09-06T22:36:49.839547Z"
    },
    "trusted": true
   },
   "outputs": [
    {
     "name": "stdout",
     "output_type": "stream",
     "text": [
      "✅ labels.txt file created with all class names\n"
     ]
    }
   ],
   "source": [
    "with open(\"labels.txt\", \"w\") as f:\n",
    "    for cls in train_dataset.classes:\n",
    "        f.write(f\"{cls}\\n\")\n"
   ]
  }
 ],
 "metadata": {
  "kaggle": {
   "accelerator": "nvidiaTeslaT4",
   "dataSources": [
    {
     "datasetId": 23079,
     "sourceId": 29550,
     "sourceType": "datasetVersion"
    }
   ],
   "dockerImageVersionId": 31090,
   "isGpuEnabled": true,
   "isInternetEnabled": true,
   "language": "python",
   "sourceType": "notebook"
  },
  "kernelspec": {
   "display_name": "Python 3",
   "language": "python",
   "name": "python3"
  },
  "language_info": {
   "codemirror_mode": {
    "name": "ipython",
    "version": 3
   },
   "file_extension": ".py",
   "mimetype": "text/x-python",
   "name": "python",
   "nbconvert_exporter": "python",
   "pygments_lexer": "ipython3",
   "version": "3.11.13"
  }
 },
 "nbformat": 4,
 "nbformat_minor": 4
}
