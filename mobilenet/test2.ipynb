{
 "cells": [
  {
   "cell_type": "code",
   "execution_count": null,
   "id": "b948f6d9",
   "metadata": {},
   "outputs": [],
   "source": [
    "import torch\n",
    "from torch import nn\n",
    "import timm\n",
    "import cv2\n",
    "from torchvision import transforms\n",
    "from PIL import Image\n"
   ]
  },
  {
   "cell_type": "code",
   "execution_count": null,
   "id": "7e1ba813",
   "metadata": {},
   "outputs": [],
   "source": [
    "# 1. Load Labels\n",
    "with open(\"labels.txt\") as f:\n",
    "    classes = [line.strip() for line in f]\n",
    "\n",
    "# 2. Load Model\n",
    "device = torch.device(\"cuda\" if torch.cuda.is_available() else \"cpu\")\n",
    "\n",
    "model = timm.create_model(\"mobilenetv3_small_100\", pretrained=False)\n",
    "model.classifier = nn.Linear(model.classifier.in_features, len(classes))\n",
    "model.load_state_dict(torch.load(\"mobilenetv3_asl.pth\", map_location=device))\n",
    "model = model.to(device)\n",
    "model.eval()\n",
    "\n",
    "# 3. Define Transform\n",
    "transform = transforms.Compose([\n",
    "    transforms.Resize((224, 224)),\n",
    "    transforms.ToTensor(),\n",
    "    transforms.Normalize([0.485, 0.456, 0.406],[0.229, 0.224, 0.225])\n",
    "])\n"
   ]
  },
  {
   "cell_type": "code",
   "execution_count": null,
   "id": "e7fa23a9",
   "metadata": {},
   "outputs": [],
   "source": [
    "# 4. Webcam Inference\n",
    "cap = cv2.VideoCapture(0)\n",
    "\n",
    "while True:\n",
    "    ret, frame = cap.read()\n",
    "    if not ret:\n",
    "        break\n",
    "\n",
    "    # Convert OpenCV BGR frame to PIL Image (RGB)\n",
    "    img = cv2.cvtColor(frame, cv2.COLOR_BGR2RGB)\n",
    "    img = Image.fromarray(img)\n",
    "\n",
    "    # Preprocess frame\n",
    "    img_tensor = transform(img).unsqueeze(0).to(device)\n",
    "\n",
    "    # Prediction\n",
    "    with torch.no_grad():\n",
    "        outs = model(img_tensor)\n",
    "        pred = outs.argmax(1).item()\n",
    "        label = classes[pred]\n",
    "\n",
    "    # Display result\n",
    "    cv2.putText(frame, f\"Prediction: {label}\", (20, 40),\n",
    "                cv2.FONT_HERSHEY_SIMPLEX, 1, (0, 255, 0), 2)\n",
    "    cv2.imshow(\"ASL Detection - MobileNetV3\", frame)\n",
    "\n",
    "    # Exit on 'q' key\n",
    "    if cv2.waitKey(1) & 0xFF == ord('q'):\n",
    "        break\n",
    "\n",
    "cap.release()\n",
    "cv2.destroyAllWindows()"
   ]
  }
 ],
 "metadata": {
  "kernelspec": {
   "display_name": "base",
   "language": "python",
   "name": "python3"
  },
  "language_info": {
   "codemirror_mode": {
    "name": "ipython",
    "version": 3
   },
   "file_extension": ".py",
   "mimetype": "text/x-python",
   "name": "python",
   "nbconvert_exporter": "python",
   "pygments_lexer": "ipython3",
   "version": "3.12.4"
  }
 },
 "nbformat": 4,
 "nbformat_minor": 5
}
