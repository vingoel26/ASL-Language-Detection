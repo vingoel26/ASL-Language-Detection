{
 "cells": [
  {
   "cell_type": "code",
   "execution_count": null,
   "id": "d1b68453-148f-446f-bc99-1d4cd7f1ed94",
   "metadata": {
    "execution": {
     "iopub.execute_input": "2025-09-07T01:04:57.391643Z",
     "iopub.status.busy": "2025-09-07T01:04:57.391458Z",
     "iopub.status.idle": "2025-09-07T01:05:30.771847Z",
     "shell.execute_reply": "2025-09-07T01:05:30.771147Z",
     "shell.execute_reply.started": "2025-09-07T01:04:57.391626Z"
    },
    "trusted": true
   },
   "outputs": [
    {
     "name": "stdout",
     "output_type": "stream",
     "text": [
      "\u001b[2K     \u001b[90m━━━━━━━━━━━━━━━━━━━━━━━━━━━━━━━━━━━━━━━━\u001b[0m \u001b[32m57.6/57.6 kB\u001b[0m \u001b[31m3.1 MB/s\u001b[0m eta \u001b[36m0:00:00\u001b[0m\n",
      "\u001b[2K   \u001b[90m━━━━━━━━━━━━━━━━━━━━━━━━━━━━━━━━━━━━━━━━\u001b[0m \u001b[32m35.7/35.7 MB\u001b[0m \u001b[31m40.4 MB/s\u001b[0m eta \u001b[36m0:00:00\u001b[0m:00:01\u001b[0m00:01\u001b[0m\n",
      "\u001b[2K   \u001b[90m━━━━━━━━━━━━━━━━━━━━━━━━━━━━━━━━━━━━━━━━\u001b[0m \u001b[32m49.9/49.9 MB\u001b[0m \u001b[31m33.8 MB/s\u001b[0m eta \u001b[36m0:00:00\u001b[0m:00:01\u001b[0m00:01\u001b[0m\n",
      "\u001b[2K   \u001b[90m━━━━━━━━━━━━━━━━━━━━━━━━━━━━━━━━━━━━━━━━\u001b[0m \u001b[32m78.3/78.3 kB\u001b[0m \u001b[31m5.2 MB/s\u001b[0m eta \u001b[36m0:00:00\u001b[0m\n",
      "\u001b[2K   \u001b[90m━━━━━━━━━━━━━━━━━━━━━━━━━━━━━━━━━━━━━━━━\u001b[0m \u001b[32m294.9/294.9 kB\u001b[0m \u001b[31m17.5 MB/s\u001b[0m eta \u001b[36m0:00:00\u001b[0m\n",
      "\u001b[?25h\u001b[31mERROR: pip's dependency resolver does not currently take into account all the packages that are installed. This behaviour is the source of the following dependency conflicts.\n",
      "bigframes 2.8.0 requires google-cloud-bigquery-storage<3.0.0,>=2.30.0, which is not installed.\n",
      "google-api-core 1.34.1 requires protobuf!=3.20.0,!=3.20.1,!=4.21.0,!=4.21.1,!=4.21.2,!=4.21.3,!=4.21.4,!=4.21.5,<4.0.0dev,>=3.19.5, but you have protobuf 4.25.8 which is incompatible.\n",
      "datasets 3.6.0 requires fsspec[http]<=2025.3.0,>=2023.1.0, but you have fsspec 2025.5.1 which is incompatible.\n",
      "preprocessing 0.1.13 requires nltk==3.2.4, but you have nltk 3.9.1 which is incompatible.\n",
      "dopamine-rl 4.1.2 requires gymnasium>=1.0.0, but you have gymnasium 0.29.0 which is incompatible.\n",
      "pandas-gbq 0.29.1 requires google-api-core<3.0.0,>=2.10.2, but you have google-api-core 1.34.1 which is incompatible.\n",
      "google-cloud-storage 2.19.0 requires google-api-core<3.0.0dev,>=2.15.0, but you have google-api-core 1.34.1 which is incompatible.\n",
      "dataproc-spark-connect 0.7.5 requires google-api-core>=2.19, but you have google-api-core 1.34.1 which is incompatible.\n",
      "dataproc-spark-connect 0.7.5 requires tqdm>=4.67, but you have tqdm 4.66.4 which is incompatible.\n",
      "bigframes 2.8.0 requires google-cloud-bigquery[bqstorage,pandas]>=3.31.0, but you have google-cloud-bigquery 3.25.0 which is incompatible.\n",
      "bigframes 2.8.0 requires rich<14,>=12.4.4, but you have rich 14.0.0 which is incompatible.\u001b[0m\u001b[31m\n",
      "\u001b[0m"
     ]
    },
    {
     "name": "stderr",
     "output_type": "stream",
     "text": [
      "2025-09-07 01:05:19.639335: E external/local_xla/xla/stream_executor/cuda/cuda_fft.cc:477] Unable to register cuFFT factory: Attempting to register factory for plugin cuFFT when one has already been registered\n",
      "WARNING: All log messages before absl::InitializeLog() is called are written to STDERR\n",
      "E0000 00:00:1757207119.831486      36 cuda_dnn.cc:8310] Unable to register cuDNN factory: Attempting to register factory for plugin cuDNN when one has already been registered\n",
      "E0000 00:00:1757207119.887319      36 cuda_blas.cc:1418] Unable to register cuBLAS factory: Attempting to register factory for plugin cuBLAS when one has already been registered\n"
     ]
    },
    {
     "name": "stdout",
     "output_type": "stream",
     "text": [
      "TF version: 2.18.0\n",
      "Mediapipe version: 0.10.14\n"
     ]
    }
   ],
   "source": [
    "# Install deps\n",
    "!pip -q install mediapipe==0.10.14 opencv-python-headless==4.10.0.84 tqdm==4.66.4\n",
    "import sys, os, glob, json, random, math, time\n",
    "import numpy as np\n",
    "import pandas as pd\n",
    "from tqdm import tqdm\n",
    "import cv2\n",
    "import mediapipe as mp\n",
    "import matplotlib.pyplot as plt\n",
    "from sklearn.model_selection import train_test_split\n",
    "from sklearn.preprocessing import StandardScaler\n",
    "from sklearn.metrics import classification_report, confusion_matrix, accuracy_score\n",
    "import tensorflow as tf\n",
    "from tensorflow import keras\n",
    "from tensorflow.keras import layers\n",
    "\n",
    "print('TF version:', tf.__version__)\n",
    "print('Mediapipe version:', mp.__version__)\n"
   ]
  },
  {
   "cell_type": "code",
   "execution_count": 2,
   "id": "87a8885a-d054-44c5-afab-d5c2848f5afd",
   "metadata": {
    "execution": {
     "iopub.execute_input": "2025-09-07T01:05:30.773824Z",
     "iopub.status.busy": "2025-09-07T01:05:30.773369Z",
     "iopub.status.idle": "2025-09-07T01:05:30.780780Z",
     "shell.execute_reply": "2025-09-07T01:05:30.779929Z",
     "shell.execute_reply.started": "2025-09-07T01:05:30.773802Z"
    },
    "trusted": true
   },
   "outputs": [
    {
     "data": {
      "text/plain": [
       "{'DATA_ROOTS': ['/kaggle/input/asl-alphabet',\n",
       "  '/kaggle/input/asl-alphabet/asl_alphabet_train',\n",
       "  '/kaggle/input/asl-alphabet/asl_alphabet_train/asl_alphabet_train'],\n",
       " 'CSV_PATH': '/kaggle/working/asl_landmarks.csv',\n",
       " 'MAX_IMAGES_PER_CLASS': None,\n",
       " 'VAL_SIZE': 0.15,\n",
       " 'RANDOM_STATE': 42,\n",
       " 'BATCH_SIZE': 256,\n",
       " 'EPOCHS': 40,\n",
       " 'LEARNING_RATE': 0.001,\n",
       " 'MODEL_PATH': '/kaggle/working/asl_mediapipe_mlp.h5'}"
      ]
     },
     "execution_count": 2,
     "metadata": {},
     "output_type": "execute_result"
    }
   ],
   "source": [
    "CFG = {\n",
    "    # Add the dataset as a Kaggle input named exactly like this on the right panel → Add data → \"grassknoted/asl-alphabet\"\n",
    "    'DATA_ROOTS': [\n",
    "        '/kaggle/input/asl-alphabet',\n",
    "        '/kaggle/input/asl-alphabet/asl_alphabet_train',\n",
    "        '/kaggle/input/asl-alphabet/asl_alphabet_train/asl_alphabet_train'\n",
    "    ],\n",
    "    # CSV cache file\n",
    "    'CSV_PATH': '/kaggle/working/asl_landmarks.csv',\n",
    "    # If None → use all images; to speed up, set e.g. 1000 per class\n",
    "    'MAX_IMAGES_PER_CLASS': None,\n",
    "    # Train config\n",
    "    'VAL_SIZE': 0.15,\n",
    "    'RANDOM_STATE': 42,\n",
    "    'BATCH_SIZE': 256,\n",
    "    'EPOCHS': 40,\n",
    "    'LEARNING_RATE': 1e-3,\n",
    "    # Model export\n",
    "    'MODEL_PATH': '/kaggle/working/asl_mediapipe_mlp.h5'\n",
    "}\n",
    "\n",
    "CFG\n"
   ]
  },
  {
   "cell_type": "code",
   "execution_count": 3,
   "id": "78c80dc1-3e37-4bae-99c8-f030e64c2386",
   "metadata": {
    "execution": {
     "iopub.execute_input": "2025-09-07T01:05:30.782593Z",
     "iopub.status.busy": "2025-09-07T01:05:30.781764Z",
     "iopub.status.idle": "2025-09-07T01:05:32.063318Z",
     "shell.execute_reply": "2025-09-07T01:05:32.062425Z",
     "shell.execute_reply.started": "2025-09-07T01:05:30.782568Z"
    },
    "trusted": true
   },
   "outputs": [
    {
     "name": "stdout",
     "output_type": "stream",
     "text": [
      "Using parent folder: /kaggle/input/asl-alphabet/asl_alphabet_train/asl_alphabet_train\n",
      "Classes found (sample): ['A', 'B', 'C', 'D', 'E', 'F', 'G', 'H', 'I', 'J'] ... total: 29\n"
     ]
    }
   ],
   "source": [
    "def auto_find_class_dirs(data_roots):\n",
    "    candidates = []\n",
    "    for root in data_roots:\n",
    "        if not os.path.exists(root):\n",
    "            continue\n",
    "        # If this root directly contains class subfolders (A, B, C, ...)\n",
    "        subdirs = [os.path.join(root, d) for d in os.listdir(root) if os.path.isdir(os.path.join(root, d))]\n",
    "        # Heuristic: contains many letter-named folders\n",
    "        if len(subdirs) >= 10:\n",
    "            candidates.extend(subdirs)\n",
    "    # If user mounted the top-level, pick the deepest set containing images\n",
    "    class_dirs = []\n",
    "    for d in candidates:\n",
    "        img_files = glob.glob(os.path.join(d, '*.jpg')) + glob.glob(os.path.join(d, '*.png'))\n",
    "        if len(img_files) > 0:\n",
    "            class_dirs.append(d)\n",
    "    # Group by parent — prefer the parent with the most classes\n",
    "    parents = {}\n",
    "    for d in class_dirs:\n",
    "        p = os.path.dirname(d)\n",
    "        parents.setdefault(p, []).append(d)\n",
    "    if not parents:\n",
    "        raise FileNotFoundError('Could not find class directories. Make sure you added the Kaggle dataset input.')\n",
    "    parent, dirs = sorted(parents.items(), key=lambda kv: len(kv[1]), reverse=True)[0]\n",
    "    print(f\"Using parent folder: {parent}\")\n",
    "    return sorted(dirs)\n",
    "\n",
    "CLASS_DIRS = auto_find_class_dirs(CFG['DATA_ROOTS'])\n",
    "CLASSES = [os.path.basename(d) for d in CLASS_DIRS]\n",
    "print('Classes found (sample):', CLASSES[:10], '... total:', len(CLASSES))\n"
   ]
  },
  {
   "cell_type": "code",
   "execution_count": 4,
   "id": "44d544a4-1b80-4a9c-9e95-e561ab2b1871",
   "metadata": {
    "execution": {
     "iopub.execute_input": "2025-09-07T01:05:32.064535Z",
     "iopub.status.busy": "2025-09-07T01:05:32.064300Z",
     "iopub.status.idle": "2025-09-07T01:58:56.164533Z",
     "shell.execute_reply": "2025-09-07T01:58:56.163810Z",
     "shell.execute_reply.started": "2025-09-07T01:05:32.064516Z"
    },
    "trusted": true
   },
   "outputs": [
    {
     "name": "stderr",
     "output_type": "stream",
     "text": [
      "INFO: Created TensorFlow Lite XNNPACK delegate for CPU.\n",
      "A:   0%|          | 0/3000 [00:00<?, ?it/s]WARNING: All log messages before absl::InitializeLog() is called are written to STDERR\n",
      "W0000 00:00:1757207132.128853     112 inference_feedback_manager.cc:114] Feedback manager requires a model with a single signature inference. Disabling support for feedback tensors.\n",
      "W0000 00:00:1757207132.165667     110 inference_feedback_manager.cc:114] Feedback manager requires a model with a single signature inference. Disabling support for feedback tensors.\n",
      "/usr/local/lib/python3.11/dist-packages/google/protobuf/symbol_database.py:55: UserWarning: SymbolDatabase.GetPrototype() is deprecated. Please use message_factory.GetMessageClass() instead. SymbolDatabase.GetPrototype() will be removed soon.\n",
      "  warnings.warn('SymbolDatabase.GetPrototype() is deprecated. Please '\n",
      "                                                            \r"
     ]
    },
    {
     "name": "stdout",
     "output_type": "stream",
     "text": [
      "Saved 63831 rows → /kaggle/working/asl_landmarks.csv\n"
     ]
    },
    {
     "data": {
      "text/html": [
       "<div>\n",
       "<style scoped>\n",
       "    .dataframe tbody tr th:only-of-type {\n",
       "        vertical-align: middle;\n",
       "    }\n",
       "\n",
       "    .dataframe tbody tr th {\n",
       "        vertical-align: top;\n",
       "    }\n",
       "\n",
       "    .dataframe thead th {\n",
       "        text-align: right;\n",
       "    }\n",
       "</style>\n",
       "<table border=\"1\" class=\"dataframe\">\n",
       "  <thead>\n",
       "    <tr style=\"text-align: right;\">\n",
       "      <th></th>\n",
       "      <th>label</th>\n",
       "      <th>handedness</th>\n",
       "      <th>f00</th>\n",
       "      <th>f01</th>\n",
       "      <th>f02</th>\n",
       "      <th>f03</th>\n",
       "      <th>f04</th>\n",
       "      <th>f05</th>\n",
       "      <th>f06</th>\n",
       "      <th>f07</th>\n",
       "      <th>...</th>\n",
       "      <th>f53</th>\n",
       "      <th>f54</th>\n",
       "      <th>f55</th>\n",
       "      <th>f56</th>\n",
       "      <th>f57</th>\n",
       "      <th>f58</th>\n",
       "      <th>f59</th>\n",
       "      <th>f60</th>\n",
       "      <th>f61</th>\n",
       "      <th>f62</th>\n",
       "    </tr>\n",
       "  </thead>\n",
       "  <tbody>\n",
       "    <tr>\n",
       "      <th>0</th>\n",
       "      <td>A</td>\n",
       "      <td>Left</td>\n",
       "      <td>0.0</td>\n",
       "      <td>0.0</td>\n",
       "      <td>0.0</td>\n",
       "      <td>0.255013</td>\n",
       "      <td>-0.179728</td>\n",
       "      <td>-0.080040</td>\n",
       "      <td>0.411013</td>\n",
       "      <td>-0.470947</td>\n",
       "      <td>...</td>\n",
       "      <td>-0.068931</td>\n",
       "      <td>-0.149020</td>\n",
       "      <td>-0.589960</td>\n",
       "      <td>-0.157814</td>\n",
       "      <td>-0.118062</td>\n",
       "      <td>-0.402817</td>\n",
       "      <td>-0.124725</td>\n",
       "      <td>-0.120593</td>\n",
       "      <td>-0.282902</td>\n",
       "      <td>-0.064965</td>\n",
       "    </tr>\n",
       "    <tr>\n",
       "      <th>1</th>\n",
       "      <td>A</td>\n",
       "      <td>Left</td>\n",
       "      <td>0.0</td>\n",
       "      <td>0.0</td>\n",
       "      <td>0.0</td>\n",
       "      <td>0.259495</td>\n",
       "      <td>-0.153247</td>\n",
       "      <td>-0.060678</td>\n",
       "      <td>0.418755</td>\n",
       "      <td>-0.457553</td>\n",
       "      <td>...</td>\n",
       "      <td>-0.084023</td>\n",
       "      <td>-0.116106</td>\n",
       "      <td>-0.553542</td>\n",
       "      <td>-0.164667</td>\n",
       "      <td>-0.086466</td>\n",
       "      <td>-0.357255</td>\n",
       "      <td>-0.139278</td>\n",
       "      <td>-0.091034</td>\n",
       "      <td>-0.235434</td>\n",
       "      <td>-0.091222</td>\n",
       "    </tr>\n",
       "    <tr>\n",
       "      <th>2</th>\n",
       "      <td>A</td>\n",
       "      <td>Left</td>\n",
       "      <td>0.0</td>\n",
       "      <td>0.0</td>\n",
       "      <td>0.0</td>\n",
       "      <td>0.209467</td>\n",
       "      <td>-0.160947</td>\n",
       "      <td>-0.091783</td>\n",
       "      <td>0.356155</td>\n",
       "      <td>-0.460957</td>\n",
       "      <td>...</td>\n",
       "      <td>-0.024192</td>\n",
       "      <td>-0.287416</td>\n",
       "      <td>-0.634243</td>\n",
       "      <td>-0.111358</td>\n",
       "      <td>-0.267033</td>\n",
       "      <td>-0.471697</td>\n",
       "      <td>-0.091532</td>\n",
       "      <td>-0.238321</td>\n",
       "      <td>-0.339349</td>\n",
       "      <td>-0.042784</td>\n",
       "    </tr>\n",
       "    <tr>\n",
       "      <th>3</th>\n",
       "      <td>A</td>\n",
       "      <td>Left</td>\n",
       "      <td>0.0</td>\n",
       "      <td>0.0</td>\n",
       "      <td>0.0</td>\n",
       "      <td>0.223916</td>\n",
       "      <td>-0.194541</td>\n",
       "      <td>-0.080841</td>\n",
       "      <td>0.352873</td>\n",
       "      <td>-0.487526</td>\n",
       "      <td>...</td>\n",
       "      <td>-0.095001</td>\n",
       "      <td>-0.208366</td>\n",
       "      <td>-0.579846</td>\n",
       "      <td>-0.208357</td>\n",
       "      <td>-0.154072</td>\n",
       "      <td>-0.395750</td>\n",
       "      <td>-0.180095</td>\n",
       "      <td>-0.144319</td>\n",
       "      <td>-0.268238</td>\n",
       "      <td>-0.120818</td>\n",
       "    </tr>\n",
       "    <tr>\n",
       "      <th>4</th>\n",
       "      <td>A</td>\n",
       "      <td>Left</td>\n",
       "      <td>0.0</td>\n",
       "      <td>0.0</td>\n",
       "      <td>0.0</td>\n",
       "      <td>0.223248</td>\n",
       "      <td>-0.176499</td>\n",
       "      <td>-0.079229</td>\n",
       "      <td>0.357216</td>\n",
       "      <td>-0.486654</td>\n",
       "      <td>...</td>\n",
       "      <td>-0.103010</td>\n",
       "      <td>-0.201985</td>\n",
       "      <td>-0.573615</td>\n",
       "      <td>-0.220350</td>\n",
       "      <td>-0.148045</td>\n",
       "      <td>-0.387330</td>\n",
       "      <td>-0.196110</td>\n",
       "      <td>-0.129040</td>\n",
       "      <td>-0.255759</td>\n",
       "      <td>-0.138961</td>\n",
       "    </tr>\n",
       "  </tbody>\n",
       "</table>\n",
       "<p>5 rows × 65 columns</p>\n",
       "</div>"
      ],
      "text/plain": [
       "  label handedness  f00  f01  f02       f03       f04       f05       f06  \\\n",
       "0     A       Left  0.0  0.0  0.0  0.255013 -0.179728 -0.080040  0.411013   \n",
       "1     A       Left  0.0  0.0  0.0  0.259495 -0.153247 -0.060678  0.418755   \n",
       "2     A       Left  0.0  0.0  0.0  0.209467 -0.160947 -0.091783  0.356155   \n",
       "3     A       Left  0.0  0.0  0.0  0.223916 -0.194541 -0.080841  0.352873   \n",
       "4     A       Left  0.0  0.0  0.0  0.223248 -0.176499 -0.079229  0.357216   \n",
       "\n",
       "        f07  ...       f53       f54       f55       f56       f57       f58  \\\n",
       "0 -0.470947  ... -0.068931 -0.149020 -0.589960 -0.157814 -0.118062 -0.402817   \n",
       "1 -0.457553  ... -0.084023 -0.116106 -0.553542 -0.164667 -0.086466 -0.357255   \n",
       "2 -0.460957  ... -0.024192 -0.287416 -0.634243 -0.111358 -0.267033 -0.471697   \n",
       "3 -0.487526  ... -0.095001 -0.208366 -0.579846 -0.208357 -0.154072 -0.395750   \n",
       "4 -0.486654  ... -0.103010 -0.201985 -0.573615 -0.220350 -0.148045 -0.387330   \n",
       "\n",
       "        f59       f60       f61       f62  \n",
       "0 -0.124725 -0.120593 -0.282902 -0.064965  \n",
       "1 -0.139278 -0.091034 -0.235434 -0.091222  \n",
       "2 -0.091532 -0.238321 -0.339349 -0.042784  \n",
       "3 -0.180095 -0.144319 -0.268238 -0.120818  \n",
       "4 -0.196110 -0.129040 -0.255759 -0.138961  \n",
       "\n",
       "[5 rows x 65 columns]"
      ]
     },
     "execution_count": 4,
     "metadata": {},
     "output_type": "execute_result"
    }
   ],
   "source": [
    "def extract_hand_landmark_vec(image_bgr, hands):\n",
    "    image_rgb = cv2.cvtColor(image_bgr, cv2.COLOR_BGR2RGB)\n",
    "    results = hands.process(image_rgb)\n",
    "    if not results.multi_hand_landmarks:\n",
    "        return None, None\n",
    "    # Choose the hand with max score\n",
    "    best_idx, best_score = 0, -1\n",
    "    for i, hand_landmarks in enumerate(results.multi_hand_landmarks):\n",
    "        score = results.multi_handedness[i].classification[0].score if results.multi_handedness else 0\n",
    "        if score > best_score:\n",
    "            best_idx, best_score = i, score\n",
    "    hand_landmarks = results.multi_hand_landmarks[best_idx]\n",
    "    handedness = results.multi_handedness[best_idx].classification[0].label if results.multi_handedness else 'Unknown'\n",
    "    # Gather raw landmark coords\n",
    "    pts = np.array([[lm.x, lm.y, lm.z] for lm in hand_landmarks.landmark], dtype=np.float32)  # (21,3)\n",
    "    # Normalize: translate by wrist and scale by max pairwise distance for scale invariance\n",
    "    wrist = pts[0].copy()\n",
    "    pts -= wrist\n",
    "    dists = np.linalg.norm(pts[None, :, :] - pts[:, None, :], axis=-1)\n",
    "    scale = np.max(dists)\n",
    "    if scale < 1e-6:\n",
    "        scale = 1.0\n",
    "    pts /= scale\n",
    "    feat = pts.flatten()  # 63-dim\n",
    "    return feat, handedness\n",
    "\n",
    "def build_csv(csv_path, max_per_class=None):\n",
    "    if os.path.exists(csv_path):\n",
    "        print(f\"CSV already exists at {csv_path}; skipping extraction.\")\n",
    "        return pd.read_csv(csv_path)\n",
    "    rows = []\n",
    "    mp_hands = mp.solutions.hands\n",
    "    with mp_hands.Hands(static_image_mode=True,\n",
    "                         max_num_hands=2,\n",
    "                         min_detection_confidence=0.5,\n",
    "                         min_tracking_confidence=0.5) as hands:\n",
    "        for class_dir in CLASS_DIRS:\n",
    "            label = os.path.basename(class_dir)\n",
    "            img_paths = sorted(glob.glob(os.path.join(class_dir, '*.jpg')) + glob.glob(os.path.join(class_dir, '*.png')))\n",
    "            if max_per_class is not None:\n",
    "                img_paths = img_paths[:max_per_class]\n",
    "            pbar = tqdm(img_paths, desc=f\"{label}\", leave=False)\n",
    "            for p in pbar:\n",
    "                img = cv2.imread(p)\n",
    "                if img is None:\n",
    "                    continue\n",
    "                feat, handed = extract_hand_landmark_vec(img, hands)\n",
    "                if feat is None:\n",
    "                    continue\n",
    "                row = {'label': label, 'handedness': handed}\n",
    "                for i, v in enumerate(feat):\n",
    "                    row[f'f{i:02d}'] = float(v)\n",
    "                rows.append(row)\n",
    "    df = pd.DataFrame(rows)\n",
    "    df.to_csv(csv_path, index=False)\n",
    "    print(f\"Saved {len(df)} rows → {csv_path}\")\n",
    "    return df\n",
    "\n",
    "df = build_csv(CFG['CSV_PATH'], CFG['MAX_IMAGES_PER_CLASS'])\n",
    "df.head()\n"
   ]
  },
  {
   "cell_type": "code",
   "execution_count": 5,
   "id": "a921ddb5-90ce-4456-9551-a0190ae07923",
   "metadata": {
    "execution": {
     "iopub.execute_input": "2025-09-07T01:58:56.165610Z",
     "iopub.status.busy": "2025-09-07T01:58:56.165375Z",
     "iopub.status.idle": "2025-09-07T01:58:56.380950Z",
     "shell.execute_reply": "2025-09-07T01:58:56.379928Z",
     "shell.execute_reply.started": "2025-09-07T01:58:56.165574Z"
    },
    "trusted": true
   },
   "outputs": [
    {
     "data": {
      "text/plain": [
       "(63, 29, ['A', 'B', 'C', 'D', 'E', 'F', 'G', 'H', 'I', 'J'])"
      ]
     },
     "execution_count": 5,
     "metadata": {},
     "output_type": "execute_result"
    }
   ],
   "source": [
    "# Prepare X/y\n",
    "feature_cols = [c for c in df.columns if c.startswith('f')]\n",
    "label_names = sorted(df['label'].unique().tolist())\n",
    "label_to_id = {c:i for i, c in enumerate(label_names)}\n",
    "id_to_label = {i:c for c, i in label_to_id.items()}\n",
    "\n",
    "X = df[feature_cols].values.astype('float32')\n",
    "y = df['label'].map(label_to_id).values.astype('int64')\n",
    "\n",
    "X_train, X_val, y_train, y_val = train_test_split(\n",
    "    X, y, test_size=CFG['VAL_SIZE'], random_state=CFG['RANDOM_STATE'], stratify=y\n",
    ")\n",
    "\n",
    "scaler = StandardScaler()\n",
    "X_train = scaler.fit_transform(X_train)\n",
    "X_val = scaler.transform(X_val)\n",
    "\n",
    "num_classes = len(label_names)\n",
    "input_dim = X_train.shape[1]\n",
    "(input_dim, num_classes, label_names[:10])\n"
   ]
  },
  {
   "cell_type": "code",
   "execution_count": 6,
   "id": "54e62f57-9d36-4b97-b513-16cd37edd877",
   "metadata": {
    "execution": {
     "iopub.execute_input": "2025-09-07T01:58:56.382196Z",
     "iopub.status.busy": "2025-09-07T01:58:56.381961Z",
     "iopub.status.idle": "2025-09-07T01:59:01.879811Z",
     "shell.execute_reply": "2025-09-07T01:59:01.879130Z",
     "shell.execute_reply.started": "2025-09-07T01:58:56.382177Z"
    },
    "trusted": true
   },
   "outputs": [
    {
     "name": "stderr",
     "output_type": "stream",
     "text": [
      "I0000 00:00:1757210340.645377      36 gpu_device.cc:2022] Created device /job:localhost/replica:0/task:0/device:GPU:0 with 13942 MB memory:  -> device: 0, name: Tesla T4, pci bus id: 0000:00:04.0, compute capability: 7.5\n",
      "I0000 00:00:1757210340.646062      36 gpu_device.cc:2022] Created device /job:localhost/replica:0/task:0/device:GPU:1 with 13942 MB memory:  -> device: 1, name: Tesla T4, pci bus id: 0000:00:05.0, compute capability: 7.5\n"
     ]
    },
    {
     "data": {
      "text/html": [
       "<pre style=\"white-space:pre;overflow-x:auto;line-height:normal;font-family:Menlo,'DejaVu Sans Mono',consolas,'Courier New',monospace\"><span style=\"font-weight: bold\">Model: \"asl_mediapipe_mlp\"</span>\n",
       "</pre>\n"
      ],
      "text/plain": [
       "\u001b[1mModel: \"asl_mediapipe_mlp\"\u001b[0m\n"
      ]
     },
     "metadata": {},
     "output_type": "display_data"
    },
    {
     "data": {
      "text/html": [
       "<pre style=\"white-space:pre;overflow-x:auto;line-height:normal;font-family:Menlo,'DejaVu Sans Mono',consolas,'Courier New',monospace\">┏━━━━━━━━━━━━━━━━━━━━━━━━━━━━━━━━━┳━━━━━━━━━━━━━━━━━━━━━━━━┳━━━━━━━━━━━━━━━┓\n",
       "┃<span style=\"font-weight: bold\"> Layer (type)                    </span>┃<span style=\"font-weight: bold\"> Output Shape           </span>┃<span style=\"font-weight: bold\">       Param # </span>┃\n",
       "┡━━━━━━━━━━━━━━━━━━━━━━━━━━━━━━━━━╇━━━━━━━━━━━━━━━━━━━━━━━━╇━━━━━━━━━━━━━━━┩\n",
       "│ landmarks (<span style=\"color: #0087ff; text-decoration-color: #0087ff\">InputLayer</span>)          │ (<span style=\"color: #00d7ff; text-decoration-color: #00d7ff\">None</span>, <span style=\"color: #00af00; text-decoration-color: #00af00\">63</span>)             │             <span style=\"color: #00af00; text-decoration-color: #00af00\">0</span> │\n",
       "├─────────────────────────────────┼────────────────────────┼───────────────┤\n",
       "│ batch_normalization             │ (<span style=\"color: #00d7ff; text-decoration-color: #00d7ff\">None</span>, <span style=\"color: #00af00; text-decoration-color: #00af00\">63</span>)             │           <span style=\"color: #00af00; text-decoration-color: #00af00\">252</span> │\n",
       "│ (<span style=\"color: #0087ff; text-decoration-color: #0087ff\">BatchNormalization</span>)            │                        │               │\n",
       "├─────────────────────────────────┼────────────────────────┼───────────────┤\n",
       "│ dense (<span style=\"color: #0087ff; text-decoration-color: #0087ff\">Dense</span>)                   │ (<span style=\"color: #00d7ff; text-decoration-color: #00d7ff\">None</span>, <span style=\"color: #00af00; text-decoration-color: #00af00\">256</span>)            │        <span style=\"color: #00af00; text-decoration-color: #00af00\">16,384</span> │\n",
       "├─────────────────────────────────┼────────────────────────┼───────────────┤\n",
       "│ batch_normalization_1           │ (<span style=\"color: #00d7ff; text-decoration-color: #00d7ff\">None</span>, <span style=\"color: #00af00; text-decoration-color: #00af00\">256</span>)            │         <span style=\"color: #00af00; text-decoration-color: #00af00\">1,024</span> │\n",
       "│ (<span style=\"color: #0087ff; text-decoration-color: #0087ff\">BatchNormalization</span>)            │                        │               │\n",
       "├─────────────────────────────────┼────────────────────────┼───────────────┤\n",
       "│ dropout (<span style=\"color: #0087ff; text-decoration-color: #0087ff\">Dropout</span>)               │ (<span style=\"color: #00d7ff; text-decoration-color: #00d7ff\">None</span>, <span style=\"color: #00af00; text-decoration-color: #00af00\">256</span>)            │             <span style=\"color: #00af00; text-decoration-color: #00af00\">0</span> │\n",
       "├─────────────────────────────────┼────────────────────────┼───────────────┤\n",
       "│ dense_1 (<span style=\"color: #0087ff; text-decoration-color: #0087ff\">Dense</span>)                 │ (<span style=\"color: #00d7ff; text-decoration-color: #00d7ff\">None</span>, <span style=\"color: #00af00; text-decoration-color: #00af00\">128</span>)            │        <span style=\"color: #00af00; text-decoration-color: #00af00\">32,896</span> │\n",
       "├─────────────────────────────────┼────────────────────────┼───────────────┤\n",
       "│ batch_normalization_2           │ (<span style=\"color: #00d7ff; text-decoration-color: #00d7ff\">None</span>, <span style=\"color: #00af00; text-decoration-color: #00af00\">128</span>)            │           <span style=\"color: #00af00; text-decoration-color: #00af00\">512</span> │\n",
       "│ (<span style=\"color: #0087ff; text-decoration-color: #0087ff\">BatchNormalization</span>)            │                        │               │\n",
       "├─────────────────────────────────┼────────────────────────┼───────────────┤\n",
       "│ dropout_1 (<span style=\"color: #0087ff; text-decoration-color: #0087ff\">Dropout</span>)             │ (<span style=\"color: #00d7ff; text-decoration-color: #00d7ff\">None</span>, <span style=\"color: #00af00; text-decoration-color: #00af00\">128</span>)            │             <span style=\"color: #00af00; text-decoration-color: #00af00\">0</span> │\n",
       "├─────────────────────────────────┼────────────────────────┼───────────────┤\n",
       "│ dense_2 (<span style=\"color: #0087ff; text-decoration-color: #0087ff\">Dense</span>)                 │ (<span style=\"color: #00d7ff; text-decoration-color: #00d7ff\">None</span>, <span style=\"color: #00af00; text-decoration-color: #00af00\">29</span>)             │         <span style=\"color: #00af00; text-decoration-color: #00af00\">3,741</span> │\n",
       "└─────────────────────────────────┴────────────────────────┴───────────────┘\n",
       "</pre>\n"
      ],
      "text/plain": [
       "┏━━━━━━━━━━━━━━━━━━━━━━━━━━━━━━━━━┳━━━━━━━━━━━━━━━━━━━━━━━━┳━━━━━━━━━━━━━━━┓\n",
       "┃\u001b[1m \u001b[0m\u001b[1mLayer (type)                   \u001b[0m\u001b[1m \u001b[0m┃\u001b[1m \u001b[0m\u001b[1mOutput Shape          \u001b[0m\u001b[1m \u001b[0m┃\u001b[1m \u001b[0m\u001b[1m      Param #\u001b[0m\u001b[1m \u001b[0m┃\n",
       "┡━━━━━━━━━━━━━━━━━━━━━━━━━━━━━━━━━╇━━━━━━━━━━━━━━━━━━━━━━━━╇━━━━━━━━━━━━━━━┩\n",
       "│ landmarks (\u001b[38;5;33mInputLayer\u001b[0m)          │ (\u001b[38;5;45mNone\u001b[0m, \u001b[38;5;34m63\u001b[0m)             │             \u001b[38;5;34m0\u001b[0m │\n",
       "├─────────────────────────────────┼────────────────────────┼───────────────┤\n",
       "│ batch_normalization             │ (\u001b[38;5;45mNone\u001b[0m, \u001b[38;5;34m63\u001b[0m)             │           \u001b[38;5;34m252\u001b[0m │\n",
       "│ (\u001b[38;5;33mBatchNormalization\u001b[0m)            │                        │               │\n",
       "├─────────────────────────────────┼────────────────────────┼───────────────┤\n",
       "│ dense (\u001b[38;5;33mDense\u001b[0m)                   │ (\u001b[38;5;45mNone\u001b[0m, \u001b[38;5;34m256\u001b[0m)            │        \u001b[38;5;34m16,384\u001b[0m │\n",
       "├─────────────────────────────────┼────────────────────────┼───────────────┤\n",
       "│ batch_normalization_1           │ (\u001b[38;5;45mNone\u001b[0m, \u001b[38;5;34m256\u001b[0m)            │         \u001b[38;5;34m1,024\u001b[0m │\n",
       "│ (\u001b[38;5;33mBatchNormalization\u001b[0m)            │                        │               │\n",
       "├─────────────────────────────────┼────────────────────────┼───────────────┤\n",
       "│ dropout (\u001b[38;5;33mDropout\u001b[0m)               │ (\u001b[38;5;45mNone\u001b[0m, \u001b[38;5;34m256\u001b[0m)            │             \u001b[38;5;34m0\u001b[0m │\n",
       "├─────────────────────────────────┼────────────────────────┼───────────────┤\n",
       "│ dense_1 (\u001b[38;5;33mDense\u001b[0m)                 │ (\u001b[38;5;45mNone\u001b[0m, \u001b[38;5;34m128\u001b[0m)            │        \u001b[38;5;34m32,896\u001b[0m │\n",
       "├─────────────────────────────────┼────────────────────────┼───────────────┤\n",
       "│ batch_normalization_2           │ (\u001b[38;5;45mNone\u001b[0m, \u001b[38;5;34m128\u001b[0m)            │           \u001b[38;5;34m512\u001b[0m │\n",
       "│ (\u001b[38;5;33mBatchNormalization\u001b[0m)            │                        │               │\n",
       "├─────────────────────────────────┼────────────────────────┼───────────────┤\n",
       "│ dropout_1 (\u001b[38;5;33mDropout\u001b[0m)             │ (\u001b[38;5;45mNone\u001b[0m, \u001b[38;5;34m128\u001b[0m)            │             \u001b[38;5;34m0\u001b[0m │\n",
       "├─────────────────────────────────┼────────────────────────┼───────────────┤\n",
       "│ dense_2 (\u001b[38;5;33mDense\u001b[0m)                 │ (\u001b[38;5;45mNone\u001b[0m, \u001b[38;5;34m29\u001b[0m)             │         \u001b[38;5;34m3,741\u001b[0m │\n",
       "└─────────────────────────────────┴────────────────────────┴───────────────┘\n"
      ]
     },
     "metadata": {},
     "output_type": "display_data"
    },
    {
     "data": {
      "text/html": [
       "<pre style=\"white-space:pre;overflow-x:auto;line-height:normal;font-family:Menlo,'DejaVu Sans Mono',consolas,'Courier New',monospace\"><span style=\"font-weight: bold\"> Total params: </span><span style=\"color: #00af00; text-decoration-color: #00af00\">54,809</span> (214.10 KB)\n",
       "</pre>\n"
      ],
      "text/plain": [
       "\u001b[1m Total params: \u001b[0m\u001b[38;5;34m54,809\u001b[0m (214.10 KB)\n"
      ]
     },
     "metadata": {},
     "output_type": "display_data"
    },
    {
     "data": {
      "text/html": [
       "<pre style=\"white-space:pre;overflow-x:auto;line-height:normal;font-family:Menlo,'DejaVu Sans Mono',consolas,'Courier New',monospace\"><span style=\"font-weight: bold\"> Trainable params: </span><span style=\"color: #00af00; text-decoration-color: #00af00\">53,915</span> (210.61 KB)\n",
       "</pre>\n"
      ],
      "text/plain": [
       "\u001b[1m Trainable params: \u001b[0m\u001b[38;5;34m53,915\u001b[0m (210.61 KB)\n"
      ]
     },
     "metadata": {},
     "output_type": "display_data"
    },
    {
     "data": {
      "text/html": [
       "<pre style=\"white-space:pre;overflow-x:auto;line-height:normal;font-family:Menlo,'DejaVu Sans Mono',consolas,'Courier New',monospace\"><span style=\"font-weight: bold\"> Non-trainable params: </span><span style=\"color: #00af00; text-decoration-color: #00af00\">894</span> (3.49 KB)\n",
       "</pre>\n"
      ],
      "text/plain": [
       "\u001b[1m Non-trainable params: \u001b[0m\u001b[38;5;34m894\u001b[0m (3.49 KB)\n"
      ]
     },
     "metadata": {},
     "output_type": "display_data"
    }
   ],
   "source": [
    "def build_mlp(input_dim, num_classes, lr=CFG['LEARNING_RATE']):\n",
    "    inputs = keras.Input(shape=(input_dim,), name='landmarks')\n",
    "    x = layers.BatchNormalization()(inputs)\n",
    "    x = layers.Dense(256, activation='relu')(x)\n",
    "    x = layers.BatchNormalization()(x)\n",
    "    x = layers.Dropout(0.2)(x)\n",
    "    x = layers.Dense(128, activation='relu')(x)\n",
    "    x = layers.BatchNormalization()(x)\n",
    "    x = layers.Dropout(0.2)(x)\n",
    "    outputs = layers.Dense(num_classes, activation='softmax')(x)\n",
    "    model = keras.Model(inputs, outputs, name='asl_mediapipe_mlp')\n",
    "    model.compile(\n",
    "        optimizer=keras.optimizers.Adam(learning_rate=lr),\n",
    "        loss='sparse_categorical_crossentropy',\n",
    "        metrics=['accuracy']\n",
    "    )\n",
    "    return model\n",
    "\n",
    "model = build_mlp(input_dim, num_classes)\n",
    "model.summary()\n"
   ]
  },
  {
   "cell_type": "code",
   "execution_count": 7,
   "id": "0d05e549-a454-45cb-8139-f39406baa15a",
   "metadata": {
    "execution": {
     "iopub.execute_input": "2025-09-07T01:59:01.882063Z",
     "iopub.status.busy": "2025-09-07T01:59:01.881760Z",
     "iopub.status.idle": "2025-09-07T01:59:22.803777Z",
     "shell.execute_reply": "2025-09-07T01:59:22.803063Z",
     "shell.execute_reply.started": "2025-09-07T01:59:01.882038Z"
    },
    "trusted": true
   },
   "outputs": [
    {
     "name": "stdout",
     "output_type": "stream",
     "text": [
      "Epoch 1/40\n"
     ]
    },
    {
     "name": "stderr",
     "output_type": "stream",
     "text": [
      "WARNING: All log messages before absl::InitializeLog() is called are written to STDERR\n",
      "I0000 00:00:1757210344.063354     130 service.cc:148] XLA service 0x788a64006360 initialized for platform CUDA (this does not guarantee that XLA will be used). Devices:\n",
      "I0000 00:00:1757210344.063789     130 service.cc:156]   StreamExecutor device (0): Tesla T4, Compute Capability 7.5\n",
      "I0000 00:00:1757210344.063828     130 service.cc:156]   StreamExecutor device (1): Tesla T4, Compute Capability 7.5\n",
      "I0000 00:00:1757210344.404125     130 cuda_dnn.cc:529] Loaded cuDNN version 90300\n"
     ]
    },
    {
     "name": "stdout",
     "output_type": "stream",
     "text": [
      "\u001b[1m 64/212\u001b[0m \u001b[32m━━━━━━\u001b[0m\u001b[37m━━━━━━━━━━━━━━\u001b[0m \u001b[1m0s\u001b[0m 2ms/step - accuracy: 0.5940 - loss: 1.5925"
     ]
    },
    {
     "name": "stderr",
     "output_type": "stream",
     "text": [
      "I0000 00:00:1757210346.628459     130 device_compiler.h:188] Compiled cluster using XLA!  This line is logged at most once for the lifetime of the process.\n"
     ]
    },
    {
     "name": "stdout",
     "output_type": "stream",
     "text": [
      "\u001b[1m212/212\u001b[0m \u001b[32m━━━━━━━━━━━━━━━━━━━━\u001b[0m\u001b[37m\u001b[0m \u001b[1m9s\u001b[0m 18ms/step - accuracy: 0.7840 - loss: 0.8478 - val_accuracy: 0.9693 - val_loss: 0.2864\n",
      "Epoch 2/40\n",
      "\u001b[1m212/212\u001b[0m \u001b[32m━━━━━━━━━━━━━━━━━━━━\u001b[0m\u001b[37m\u001b[0m \u001b[1m1s\u001b[0m 3ms/step - accuracy: 0.9715 - loss: 0.1099 - val_accuracy: 0.9836 - val_loss: 0.0663\n",
      "Epoch 3/40\n",
      "\u001b[1m212/212\u001b[0m \u001b[32m━━━━━━━━━━━━━━━━━━━━\u001b[0m\u001b[37m\u001b[0m \u001b[1m1s\u001b[0m 3ms/step - accuracy: 0.9799 - loss: 0.0749 - val_accuracy: 0.9857 - val_loss: 0.0513\n",
      "Epoch 4/40\n",
      "\u001b[1m212/212\u001b[0m \u001b[32m━━━━━━━━━━━━━━━━━━━━\u001b[0m\u001b[37m\u001b[0m \u001b[1m1s\u001b[0m 3ms/step - accuracy: 0.9815 - loss: 0.0657 - val_accuracy: 0.9884 - val_loss: 0.0394\n",
      "Epoch 5/40\n",
      "\u001b[1m212/212\u001b[0m \u001b[32m━━━━━━━━━━━━━━━━━━━━\u001b[0m\u001b[37m\u001b[0m \u001b[1m1s\u001b[0m 3ms/step - accuracy: 0.9848 - loss: 0.0542 - val_accuracy: 0.9899 - val_loss: 0.0370\n",
      "Epoch 6/40\n",
      "\u001b[1m212/212\u001b[0m \u001b[32m━━━━━━━━━━━━━━━━━━━━\u001b[0m\u001b[37m\u001b[0m \u001b[1m1s\u001b[0m 3ms/step - accuracy: 0.9862 - loss: 0.0481 - val_accuracy: 0.9904 - val_loss: 0.0341\n",
      "Epoch 7/40\n",
      "\u001b[1m212/212\u001b[0m \u001b[32m━━━━━━━━━━━━━━━━━━━━\u001b[0m\u001b[37m\u001b[0m \u001b[1m1s\u001b[0m 3ms/step - accuracy: 0.9864 - loss: 0.0475 - val_accuracy: 0.9899 - val_loss: 0.0364\n",
      "Epoch 8/40\n",
      "\u001b[1m212/212\u001b[0m \u001b[32m━━━━━━━━━━━━━━━━━━━━\u001b[0m\u001b[37m\u001b[0m \u001b[1m1s\u001b[0m 3ms/step - accuracy: 0.9875 - loss: 0.0434 - val_accuracy: 0.9915 - val_loss: 0.0307\n",
      "Epoch 9/40\n",
      "\u001b[1m212/212\u001b[0m \u001b[32m━━━━━━━━━━━━━━━━━━━━\u001b[0m\u001b[37m\u001b[0m \u001b[1m1s\u001b[0m 3ms/step - accuracy: 0.9883 - loss: 0.0392 - val_accuracy: 0.9898 - val_loss: 0.0342\n",
      "Epoch 10/40\n",
      "\u001b[1m212/212\u001b[0m \u001b[32m━━━━━━━━━━━━━━━━━━━━\u001b[0m\u001b[37m\u001b[0m \u001b[1m1s\u001b[0m 3ms/step - accuracy: 0.9867 - loss: 0.0418 - val_accuracy: 0.9925 - val_loss: 0.0281\n",
      "Epoch 11/40\n",
      "\u001b[1m212/212\u001b[0m \u001b[32m━━━━━━━━━━━━━━━━━━━━\u001b[0m\u001b[37m\u001b[0m \u001b[1m1s\u001b[0m 3ms/step - accuracy: 0.9892 - loss: 0.0361 - val_accuracy: 0.9908 - val_loss: 0.0301\n",
      "Epoch 12/40\n",
      "\u001b[1m212/212\u001b[0m \u001b[32m━━━━━━━━━━━━━━━━━━━━\u001b[0m\u001b[37m\u001b[0m \u001b[1m1s\u001b[0m 3ms/step - accuracy: 0.9899 - loss: 0.0322 - val_accuracy: 0.9912 - val_loss: 0.0317\n",
      "Epoch 13/40\n",
      "\u001b[1m212/212\u001b[0m \u001b[32m━━━━━━━━━━━━━━━━━━━━\u001b[0m\u001b[37m\u001b[0m \u001b[1m1s\u001b[0m 3ms/step - accuracy: 0.9898 - loss: 0.0325 - val_accuracy: 0.9926 - val_loss: 0.0270\n",
      "Epoch 14/40\n",
      "\u001b[1m212/212\u001b[0m \u001b[32m━━━━━━━━━━━━━━━━━━━━\u001b[0m\u001b[37m\u001b[0m \u001b[1m1s\u001b[0m 3ms/step - accuracy: 0.9897 - loss: 0.0337 - val_accuracy: 0.9917 - val_loss: 0.0278\n",
      "Epoch 15/40\n",
      "\u001b[1m212/212\u001b[0m \u001b[32m━━━━━━━━━━━━━━━━━━━━\u001b[0m\u001b[37m\u001b[0m \u001b[1m1s\u001b[0m 3ms/step - accuracy: 0.9904 - loss: 0.0300 - val_accuracy: 0.9895 - val_loss: 0.0385\n",
      "Epoch 16/40\n",
      "\u001b[1m212/212\u001b[0m \u001b[32m━━━━━━━━━━━━━━━━━━━━\u001b[0m\u001b[37m\u001b[0m \u001b[1m1s\u001b[0m 3ms/step - accuracy: 0.9914 - loss: 0.0281 - val_accuracy: 0.9925 - val_loss: 0.0280\n",
      "Epoch 17/40\n",
      "\u001b[1m212/212\u001b[0m \u001b[32m━━━━━━━━━━━━━━━━━━━━\u001b[0m\u001b[37m\u001b[0m \u001b[1m1s\u001b[0m 3ms/step - accuracy: 0.9914 - loss: 0.0264 - val_accuracy: 0.9923 - val_loss: 0.0281\n",
      "Epoch 18/40\n",
      "\u001b[1m212/212\u001b[0m \u001b[32m━━━━━━━━━━━━━━━━━━━━\u001b[0m\u001b[37m\u001b[0m \u001b[1m1s\u001b[0m 3ms/step - accuracy: 0.9911 - loss: 0.0274 - val_accuracy: 0.9925 - val_loss: 0.0263\n",
      "Epoch 19/40\n",
      "\u001b[1m212/212\u001b[0m \u001b[32m━━━━━━━━━━━━━━━━━━━━\u001b[0m\u001b[37m\u001b[0m \u001b[1m1s\u001b[0m 3ms/step - accuracy: 0.9922 - loss: 0.0260 - val_accuracy: 0.9909 - val_loss: 0.0305\n",
      "Saved model to /kaggle/working/asl_mediapipe_mlp.h5\n"
     ]
    }
   ],
   "source": [
    "callbacks = [\n",
    "    keras.callbacks.EarlyStopping(monitor='val_accuracy', patience=6, restore_best_weights=True),\n",
    "    keras.callbacks.ModelCheckpoint(CFG['MODEL_PATH'], monitor='val_accuracy', save_best_only=True)\n",
    "]\n",
    "\n",
    "history = model.fit(\n",
    "    X_train, y_train,\n",
    "    validation_data=(X_val, y_val),\n",
    "    epochs=CFG['EPOCHS'],\n",
    "    batch_size=CFG['BATCH_SIZE'],\n",
    "    callbacks=callbacks,\n",
    "    verbose=1\n",
    ")\n",
    "\n",
    "# Ensure a final save (in case checkpoint didn't trigger yet)\n",
    "model.save(CFG['MODEL_PATH'])\n",
    "print('Saved model to', CFG['MODEL_PATH'])\n"
   ]
  },
  {
   "cell_type": "code",
   "execution_count": 8,
   "id": "09aff156-ec8c-4d1b-a079-e23d72960ae5",
   "metadata": {
    "execution": {
     "iopub.execute_input": "2025-09-07T01:59:22.804926Z",
     "iopub.status.busy": "2025-09-07T01:59:22.804640Z",
     "iopub.status.idle": "2025-09-07T01:59:24.897570Z",
     "shell.execute_reply": "2025-09-07T01:59:24.896794Z",
     "shell.execute_reply.started": "2025-09-07T01:59:22.804899Z"
    },
    "trusted": true
   },
   "outputs": [
    {
     "name": "stdout",
     "output_type": "stream",
     "text": [
      "Validation accuracy: 0.9926\n",
      "Warning: Some classes are missing in validation set:\n",
      "['nothing']\n",
      "\n",
      "Classification report:\n",
      "              precision    recall  f1-score   support\n",
      "\n",
      "           A       0.99      0.99      0.99       329\n",
      "           B       0.99      1.00      1.00       332\n",
      "           C       1.00      1.00      1.00       299\n",
      "           D       1.00      0.99      1.00       369\n",
      "           E       1.00      1.00      1.00       347\n",
      "           F       1.00      1.00      1.00       432\n",
      "           G       1.00      1.00      1.00       366\n",
      "           H       1.00      1.00      1.00       359\n",
      "           I       0.99      0.99      0.99       358\n",
      "           J       1.00      1.00      1.00       387\n",
      "           K       1.00      0.99      0.99       405\n",
      "           L       1.00      1.00      1.00       379\n",
      "           M       0.94      0.98      0.96       239\n",
      "           N       0.97      0.94      0.96       195\n",
      "           O       1.00      0.99      1.00       341\n",
      "           P       0.98      1.00      0.99       306\n",
      "           Q       1.00      0.97      0.99       316\n",
      "           R       1.00      0.98      0.99       382\n",
      "           S       0.99      1.00      1.00       383\n",
      "           T       1.00      0.99      1.00       352\n",
      "           U       0.97      0.99      0.98       378\n",
      "           V       1.00      0.99      0.99       383\n",
      "           W       0.99      0.99      0.99       369\n",
      "           X       1.00      0.99      0.99       324\n",
      "           Y       1.00      1.00      1.00       388\n",
      "           Z       0.99      0.99      0.99       353\n",
      "         del       0.98      1.00      0.99       256\n",
      "     nothing       0.00      0.00      0.00         0\n",
      "       space       0.98      0.99      0.98       248\n",
      "\n",
      "   micro avg       0.99      0.99      0.99      9575\n",
      "   macro avg       0.96      0.96      0.96      9575\n",
      "weighted avg       0.99      0.99      0.99      9575\n",
      "\n"
     ]
    },
    {
     "name": "stderr",
     "output_type": "stream",
     "text": [
      "/usr/local/lib/python3.11/dist-packages/sklearn/metrics/_classification.py:1344: UndefinedMetricWarning: Precision and F-score are ill-defined and being set to 0.0 in labels with no predicted samples. Use `zero_division` parameter to control this behavior.\n",
      "  _warn_prf(average, modifier, msg_start, len(result))\n",
      "/usr/local/lib/python3.11/dist-packages/sklearn/metrics/_classification.py:1344: UndefinedMetricWarning: Recall and F-score are ill-defined and being set to 0.0 in labels with no true samples. Use `zero_division` parameter to control this behavior.\n",
      "  _warn_prf(average, modifier, msg_start, len(result))\n",
      "/usr/local/lib/python3.11/dist-packages/sklearn/metrics/_classification.py:1344: UndefinedMetricWarning: Precision and F-score are ill-defined and being set to 0.0 in labels with no predicted samples. Use `zero_division` parameter to control this behavior.\n",
      "  _warn_prf(average, modifier, msg_start, len(result))\n",
      "/usr/local/lib/python3.11/dist-packages/sklearn/metrics/_classification.py:1344: UndefinedMetricWarning: Recall and F-score are ill-defined and being set to 0.0 in labels with no true samples. Use `zero_division` parameter to control this behavior.\n",
      "  _warn_prf(average, modifier, msg_start, len(result))\n",
      "/usr/local/lib/python3.11/dist-packages/sklearn/metrics/_classification.py:1344: UndefinedMetricWarning: Precision and F-score are ill-defined and being set to 0.0 in labels with no predicted samples. Use `zero_division` parameter to control this behavior.\n",
      "  _warn_prf(average, modifier, msg_start, len(result))\n",
      "/usr/local/lib/python3.11/dist-packages/sklearn/metrics/_classification.py:1344: UndefinedMetricWarning: Recall and F-score are ill-defined and being set to 0.0 in labels with no true samples. Use `zero_division` parameter to control this behavior.\n",
      "  _warn_prf(average, modifier, msg_start, len(result))\n"
     ]
    },
    {
     "data": {
      "image/png": "[encoded data removed]",
      "text/plain": [
       "<Figure size 1200x1200 with 2 Axes>"
      ]
     },
     "metadata": {},
     "output_type": "display_data"
    }
   ],
   "source": [
    "# Evaluate model predictions\n",
    "val_probs = model.predict(X_val, verbose=0)\n",
    "val_pred = np.argmax(val_probs, axis=1)\n",
    "acc = accuracy_score(y_val, val_pred)\n",
    "print(f'Validation accuracy: {acc:.4f}')\n",
    "\n",
    "# Check for missing classes in validation set\n",
    "missing_classes = set(range(num_classes)) - set(np.unique(y_val))\n",
    "if missing_classes:\n",
    "    print('Warning: Some classes are missing in validation set:')\n",
    "    print([id_to_label[i] for i in missing_classes])\n",
    "\n",
    "# Proper classification report with explicit labels\n",
    "print('\\nClassification report:')\n",
    "print(classification_report(\n",
    "    y_val, \n",
    "    val_pred, \n",
    "    labels=list(range(num_classes)), \n",
    "    target_names=label_names\n",
    "))\n",
    "\n",
    "# Confusion matrix visualization\n",
    "cm = confusion_matrix(y_val, val_pred, labels=list(range(num_classes)))\n",
    "fig = plt.figure(figsize=(12,12))\n",
    "plt.imshow(cm, interpolation='nearest', cmap='Blues')\n",
    "plt.title('Confusion Matrix')\n",
    "plt.xlabel('Predicted')\n",
    "plt.ylabel('True')\n",
    "plt.xticks(range(num_classes), label_names, rotation=90)\n",
    "plt.yticks(range(num_classes), label_names)\n",
    "plt.colorbar()\n",
    "plt.tight_layout()\n",
    "plt.show()\n"
   ]
  },
  {
   "cell_type": "code",
   "execution_count": 9,
   "id": "06cd44b3-52f4-4646-a55a-60155a1abf14",
   "metadata": {
    "execution": {
     "iopub.execute_input": "2025-09-07T01:59:24.898770Z",
     "iopub.status.busy": "2025-09-07T01:59:24.898460Z",
     "iopub.status.idle": "2025-09-07T01:59:25.339720Z",
     "shell.execute_reply": "2025-09-07T01:59:25.339001Z",
     "shell.execute_reply.started": "2025-09-07T01:59:24.898744Z"
    },
    "trusted": true
   },
   "outputs": [
    {
     "name": "stderr",
     "output_type": "stream",
     "text": [
      "W0000 00:00:1757210364.934064     679 inference_feedback_manager.cc:114] Feedback manager requires a model with a single signature inference. Disabling support for feedback tensors.\n",
      "W0000 00:00:1757210364.963663     679 inference_feedback_manager.cc:114] Feedback manager requires a model with a single signature inference. Disabling support for feedback tensors.\n",
      "/usr/local/lib/python3.11/dist-packages/google/protobuf/symbol_database.py:55: UserWarning: SymbolDatabase.GetPrototype() is deprecated. Please use message_factory.GetMessageClass() instead. SymbolDatabase.GetPrototype() will be removed soon.\n",
      "  warnings.warn('SymbolDatabase.GetPrototype() is deprecated. Please '\n"
     ]
    },
    {
     "name": "stdout",
     "output_type": "stream",
     "text": [
      "Z => None on Z2529.jpg\n",
      "P => None on P2641.jpg\n",
      "U => ('U', 0.9994946718215942) on U355.jpg\n"
     ]
    }
   ],
   "source": [
    "def predict_image(path, hands, scaler, model, id_to_label):\n",
    "    img = cv2.imread(path)\n",
    "    if img is None:\n",
    "        return None\n",
    "    feat, handed = extract_hand_landmark_vec(img, hands)\n",
    "    if feat is None:\n",
    "        return None\n",
    "    x = np.array(feat, dtype='float32').reshape(1, -1)\n",
    "    x = scaler.transform(x)\n",
    "    probs = model.predict(x, verbose=0)[0]\n",
    "    top = int(np.argmax(probs))\n",
    "    return id_to_label[top], float(probs[top])\n",
    "\n",
    "mp_hands = mp.solutions.hands\n",
    "sample_dirs = random.sample(CLASS_DIRS, min(3, len(CLASS_DIRS)))\n",
    "with mp_hands.Hands(static_image_mode=True,\n",
    "                     max_num_hands=2,\n",
    "                     min_detection_confidence=0.5,\n",
    "                     min_tracking_confidence=0.5) as hands:\n",
    "    for d in sample_dirs:\n",
    "        img_paths = glob.glob(os.path.join(d, '*.jpg')) + glob.glob(os.path.join(d, '*.png'))\n",
    "        if not img_paths:\n",
    "            continue\n",
    "        p = random.choice(img_paths)\n",
    "        pred = predict_image(p, hands, scaler, model, id_to_label)\n",
    "        print(os.path.basename(d), '=>', pred, 'on', os.path.basename(p))\n"
   ]
  },
  {
   "cell_type": "code",
   "execution_count": 10,
   "id": "9b6758c2-2bba-4ac6-bb53-823569727caf",
   "metadata": {
    "execution": {
     "iopub.execute_input": "2025-09-07T01:59:25.341180Z",
     "iopub.status.busy": "2025-09-07T01:59:25.340908Z",
     "iopub.status.idle": "2025-09-07T01:59:25.346236Z",
     "shell.execute_reply": "2025-09-07T01:59:25.345398Z",
     "shell.execute_reply.started": "2025-09-07T01:59:25.341161Z"
    },
    "trusted": true
   },
   "outputs": [
    {
     "name": "stdout",
     "output_type": "stream",
     "text": [
      "CSV at: /kaggle/working/asl_landmarks.csv True\n",
      "Model at: /kaggle/working/asl_mediapipe_mlp.h5 True\n"
     ]
    }
   ],
   "source": [
    "print('CSV at:', CFG['CSV_PATH'], os.path.exists(CFG['CSV_PATH']))\n",
    "print('Model at:', CFG['MODEL_PATH'], os.path.exists(CFG['MODEL_PATH']))\n"
   ]
  },
  {
   "cell_type": "code",
   "execution_count": 13,
   "id": "a4e9c25e-1ce5-4d08-b081-d632dad4ef27",
   "metadata": {
    "execution": {
     "iopub.execute_input": "2025-09-07T02:01:55.103934Z",
     "iopub.status.busy": "2025-09-07T02:01:55.103182Z",
     "iopub.status.idle": "2025-09-07T02:01:55.107834Z",
     "shell.execute_reply": "2025-09-07T02:01:55.107087Z",
     "shell.execute_reply.started": "2025-09-07T02:01:55.103903Z"
    },
    "trusted": true
   },
   "outputs": [],
   "source": [
    "DO_TFLITE = False  # set True to export tflite\n",
    "if DO_TFLITE:\n",
    "    converter = tf.lite.TFLiteConverter.from_keras_model(model)\n",
    "    tflite_model = converter.convert()\n",
    "    tfl_path = '/kaggle/working/asl_mediapipe_mlp.tflite'\n",
    "    with open(tfl_path, 'wb') as f:\n",
    "        f.write(tflite_model)\n",
    "    print('Saved', tfl_path)\n"
   ]
  },
  {
   "cell_type": "code",
   "execution_count": 14,
   "id": "575f28cb-6120-4388-8bd5-c497e6070400",
   "metadata": {
    "execution": {
     "iopub.execute_input": "2025-09-07T02:04:08.519646Z",
     "iopub.status.busy": "2025-09-07T02:04:08.518931Z",
     "iopub.status.idle": "2025-09-07T02:04:08.574787Z",
     "shell.execute_reply": "2025-09-07T02:04:08.574181Z",
     "shell.execute_reply.started": "2025-09-07T02:04:08.519620Z"
    },
    "trusted": true
   },
   "outputs": [
    {
     "name": "stdout",
     "output_type": "stream",
     "text": [
      "Scaler saved successfully!\n"
     ]
    }
   ],
   "source": [
    "import joblib\n",
    "\n",
    "# Example after training:\n",
    "from sklearn.preprocessing import StandardScaler\n",
    "\n",
    "scaler = StandardScaler()\n",
    "scaler.fit(X_train)  # Assuming X_train is your training features\n",
    "\n",
    "# Save the scaler to a file\n",
    "joblib.dump(scaler, 'scaler.save')\n",
    "print('Scaler saved successfully!')\n"
   ]
  }
 ],
 "metadata": {
  "kaggle": {
   "accelerator": "nvidiaTeslaT4",
   "dataSources": [
    {
     "datasetId": 23079,
     "sourceId": 29550,
     "sourceType": "datasetVersion"
    }
   ],
   "dockerImageVersionId": 31089,
   "isGpuEnabled": true,
   "isInternetEnabled": true,
   "language": "python",
   "sourceType": "notebook"
  },
  "kernelspec": {
   "display_name": "Python 3",
   "language": "python",
   "name": "python3"
  },
  "language_info": {
   "codemirror_mode": {
    "name": "ipython",
    "version": 3
   },
   "file_extension": ".py",
   "mimetype": "text/x-python",
   "name": "python",
   "nbconvert_exporter": "python",
   "pygments_lexer": "ipython3",
   "version": "3.11.13"
  }
 },
 "nbformat": 4,
 "nbformat_minor": 5
}
